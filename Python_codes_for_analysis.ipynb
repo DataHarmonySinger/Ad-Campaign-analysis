{
  "nbformat": 4,
  "nbformat_minor": 0,
  "metadata": {
    "colab": {
      "provenance": [],
      "toc_visible": true
    },
    "kernelspec": {
      "name": "python3",
      "display_name": "Python 3"
    },
    "language_info": {
      "name": "python"
    }
  },
  "cells": [
    {
      "cell_type": "code",
      "source": [
        "data_sheets = pd.read_excel('/content/Assignment - Data Set - Data Analyst, Reporting - External.xlsx', sheet_name=None)"
      ],
      "metadata": {
        "id": "x8L4t69IaA00"
      },
      "execution_count": null,
      "outputs": []
    },
    {
      "cell_type": "code",
      "source": [
        "google_ads_data = data_sheets['Google Ads Data']\n",
        "facebook_ads_data = data_sheets['Facebook Ads Data']"
      ],
      "metadata": {
        "id": "wEJnPY8PaGOF"
      },
      "execution_count": null,
      "outputs": []
    },
    {
      "cell_type": "code",
      "execution_count": null,
      "metadata": {
        "id": "4JmJwHP7Z0gM"
      },
      "outputs": [],
      "source": [
        "import pandas as pd"
      ]
    },
    {
      "cell_type": "code",
      "source": [
        "print(\"\\nGoogle Ads Data (first 5 rows):\")\n",
        "print(google_ads_data.head())"
      ],
      "metadata": {
        "colab": {
          "base_uri": "https://localhost:8080/"
        },
        "id": "0plDeSPyaJpv",
        "outputId": "0e6ad306-3606-47cf-c8c1-4997026df34d"
      },
      "execution_count": null,
      "outputs": [
        {
          "output_type": "stream",
          "name": "stdout",
          "text": [
            "\n",
            "Google Ads Data (first 5 rows):\n",
            "  Campaign_ID     Campaign_Name        Keyword  Ad_ID       Date  Impressions  \\\n",
            "0       GG001  Summer Sale 2024  Keyword Set 1  AD456 2024-08-01        12327   \n",
            "1       GG001  Summer Sale 2024  Keyword Set 1  AD456 2024-08-02        12931   \n",
            "2       GG001  Summer Sale 2024  Keyword Set 1  AD456 2024-08-03        10197   \n",
            "3       GG001  Summer Sale 2024  Keyword Set 1  AD456 2024-08-04        11930   \n",
            "4       GG001  Summer Sale 2024  Keyword Set 1  AD456 2024-08-05        13582   \n",
            "\n",
            "   Clicks  Conversions   Spend  Pageviews  Form_Submits  Contact_Us_Clicks  \n",
            "0   334.0           35  630.32       1225            39                 19  \n",
            "1   327.0           32  605.02        887            36                 17  \n",
            "2   300.0           44  693.53       1262            36                 10  \n",
            "3   308.0           59  700.68       1238            31                  8  \n",
            "4   191.0           49  759.25        754            34                 15  \n"
          ]
        }
      ]
    },
    {
      "cell_type": "code",
      "source": [
        "print(\"\\nFacebook Ads Data (first 5 rows):\")\n",
        "print(facebook_ads_data.head())\n",
        "\n",
        "#This code checks the first few rows of the Facebook Ads dataset to verify its structure and ensure that the data loaded correctly."
      ],
      "metadata": {
        "colab": {
          "base_uri": "https://localhost:8080/"
        },
        "id": "7nyh0vXkaMlv",
        "outputId": "410aa747-5cf3-4a31-e389-298349dd3c64"
      },
      "execution_count": null,
      "outputs": [
        {
          "output_type": "stream",
          "name": "stdout",
          "text": [
            "\n",
            "Facebook Ads Data (first 5 rows):\n",
            "  Campaign_ID     Campaign_Name  Ad_Set_Name  Ad_ID       Date  Impressions  \\\n",
            "0       FB001  Summer Sale 2024  Promo Set A  AD123 2024-08-01       8860.0   \n",
            "1       FB001  Summer Sale 2024  Promo Set A  AD123 2024-08-02      13390.0   \n",
            "2       FB001  Summer Sale 2024  Promo Set A  AD123 2024-08-03      13226.0   \n",
            "3       FB001  Summer Sale 2024  Promo Set A  AD123 2024-08-04      13191.0   \n",
            "4       FB001  Summer Sale 2024  Promo Set A  AD123 2024-08-05      11772.0   \n",
            "\n",
            "   Clicks  Conversions   Spend  Pageviews  Form_Submits  Contact_Us_Clicks  \n",
            "0     188           47  579.37        906            16                  5  \n",
            "1     148           34  676.56       1073            28                 14  \n",
            "2     158           47  426.55        598            11                  8  \n",
            "3     269           26  458.79       1183            19                 11  \n",
            "4     287           31  413.57       1046            22                  6  \n"
          ]
        }
      ]
    },
    {
      "cell_type": "code",
      "source": [
        "print(\"\\nGoogle Ads Data Information:\")\n",
        "print(google_ads_data.info())\n",
        "\n",
        "#This code provides an overview of the Google Ads dataset, including data types and the number of non-null entries, to confirm the dataset's readiness for analysis."
      ],
      "metadata": {
        "colab": {
          "base_uri": "https://localhost:8080/"
        },
        "id": "wXU81OjncbDl",
        "outputId": "73e6cb06-d84d-4357-f260-8a6306fbc270"
      },
      "execution_count": null,
      "outputs": [
        {
          "output_type": "stream",
          "name": "stdout",
          "text": [
            "\n",
            "Google Ads Data Information:\n",
            "<class 'pandas.core.frame.DataFrame'>\n",
            "RangeIndex: 31 entries, 0 to 30\n",
            "Data columns (total 12 columns):\n",
            " #   Column             Non-Null Count  Dtype         \n",
            "---  ------             --------------  -----         \n",
            " 0   Campaign_ID        31 non-null     object        \n",
            " 1   Campaign_Name      31 non-null     object        \n",
            " 2   Keyword            31 non-null     object        \n",
            " 3   Ad_ID              31 non-null     object        \n",
            " 4   Date               31 non-null     datetime64[ns]\n",
            " 5   Impressions        31 non-null     int64         \n",
            " 6   Clicks             30 non-null     float64       \n",
            " 7   Conversions        31 non-null     int64         \n",
            " 8   Spend              30 non-null     float64       \n",
            " 9   Pageviews          31 non-null     int64         \n",
            " 10  Form_Submits       31 non-null     int64         \n",
            " 11  Contact_Us_Clicks  31 non-null     int64         \n",
            "dtypes: datetime64[ns](1), float64(2), int64(5), object(4)\n",
            "memory usage: 3.0+ KB\n",
            "None\n"
          ]
        }
      ]
    },
    {
      "cell_type": "code",
      "source": [
        "print(\"\\nFacebook Ads Data Information:\")\n",
        "print(facebook_ads_data.info())"
      ],
      "metadata": {
        "colab": {
          "base_uri": "https://localhost:8080/"
        },
        "id": "rbLeXBY9cdqs",
        "outputId": "487778f5-2d77-4a42-cd63-fe0a1b72588a"
      },
      "execution_count": null,
      "outputs": [
        {
          "output_type": "stream",
          "name": "stdout",
          "text": [
            "\n",
            "Facebook Ads Data Information:\n",
            "<class 'pandas.core.frame.DataFrame'>\n",
            "RangeIndex: 31 entries, 0 to 30\n",
            "Data columns (total 12 columns):\n",
            " #   Column             Non-Null Count  Dtype         \n",
            "---  ------             --------------  -----         \n",
            " 0   Campaign_ID        31 non-null     object        \n",
            " 1   Campaign_Name      31 non-null     object        \n",
            " 2   Ad_Set_Name        31 non-null     object        \n",
            " 3   Ad_ID              31 non-null     object        \n",
            " 4   Date               31 non-null     datetime64[ns]\n",
            " 5   Impressions        30 non-null     float64       \n",
            " 6   Clicks             31 non-null     int64         \n",
            " 7   Conversions        31 non-null     int64         \n",
            " 8   Spend              30 non-null     float64       \n",
            " 9   Pageviews          31 non-null     int64         \n",
            " 10  Form_Submits       31 non-null     int64         \n",
            " 11  Contact_Us_Clicks  31 non-null     int64         \n",
            "dtypes: datetime64[ns](1), float64(2), int64(5), object(4)\n",
            "memory usage: 3.0+ KB\n",
            "None\n"
          ]
        }
      ]
    },
    {
      "cell_type": "code",
      "source": [
        "google_ads_missing = google_ads_data.isnull().sum()\n",
        "print(\"\\nMissing values in Google Ads Data:\")\n",
        "print(google_ads_missing)\n",
        "\n",
        "facebook_ads_missing = facebook_ads_data.isnull().sum()\n",
        "print(\"\\nMissing values in Facebook Ads Data:\")\n",
        "print(facebook_ads_missing)\n",
        "\n",
        "#I used this code to identify any missing values in the datasets. It's important to check for missing data because it can lead to inaccuracies in my analysis. By knowing where the gaps are, I can decide the best way to address them."
      ],
      "metadata": {
        "colab": {
          "base_uri": "https://localhost:8080/"
        },
        "id": "MzLtERoLchy_",
        "outputId": "9736ac0f-30d4-4b1a-84d7-d59405cbd732"
      },
      "execution_count": null,
      "outputs": [
        {
          "output_type": "stream",
          "name": "stdout",
          "text": [
            "\n",
            "Missing values in Google Ads Data:\n",
            "Campaign_ID          0\n",
            "Campaign_Name        0\n",
            "Keyword              0\n",
            "Ad_ID                0\n",
            "Date                 0\n",
            "Impressions          0\n",
            "Clicks               1\n",
            "Conversions          0\n",
            "Spend                1\n",
            "Pageviews            0\n",
            "Form_Submits         0\n",
            "Contact_Us_Clicks    0\n",
            "dtype: int64\n",
            "\n",
            "Missing values in Facebook Ads Data:\n",
            "Campaign_ID          0\n",
            "Campaign_Name        0\n",
            "Ad_Set_Name          0\n",
            "Ad_ID                0\n",
            "Date                 0\n",
            "Impressions          1\n",
            "Clicks               0\n",
            "Conversions          0\n",
            "Spend                1\n",
            "Pageviews            0\n",
            "Form_Submits         0\n",
            "Contact_Us_Clicks    0\n",
            "dtype: int64\n"
          ]
        }
      ]
    },
    {
      "cell_type": "code",
      "source": [
        "google_ads_stats = google_ads_data.describe()\n",
        "facebook_ads_stats = facebook_ads_data.describe()\n",
        "\n",
        "print(\"Google Ads Data Statistics:\")\n",
        "print(google_ads_stats)\n",
        "\n",
        "print(\"\\nFacebook Ads Data Statistics:\")\n",
        "print(facebook_ads_stats)\n",
        "\n",
        "#I used descriptive statistics to get an overview of the data, including measures like mean, median, standard deviation, and quartiles. This helped me understand the distribution and central tendencies of key metrics like Clicks, Impressions, and Spend.\n",
        "#By analyzing the descriptive statistics, I noticed that the data had outliers which could skew the mean. Therefore, it helps me to chose between mean and  median to fill in missing values."
      ],
      "metadata": {
        "colab": {
          "base_uri": "https://localhost:8080/"
        },
        "id": "4TFLyncpcrtC",
        "outputId": "2cd3cf8d-f84b-4be0-8c87-0289b4af96d8"
      },
      "execution_count": null,
      "outputs": [
        {
          "output_type": "stream",
          "name": "stdout",
          "text": [
            "Google Ads Data Statistics:\n",
            "                                Date   Impressions      Clicks  Conversions  \\\n",
            "count                             31     31.000000   30.000000    31.000000   \n",
            "mean   2024-08-15 14:42:34.838709760  12468.677419  260.466667    43.709677   \n",
            "min              2024-08-01 00:00:00  10146.000000  151.000000    26.000000   \n",
            "25%              2024-08-08 12:00:00  11764.000000  204.500000    35.500000   \n",
            "50%              2024-08-16 00:00:00  12385.000000  279.000000    44.000000   \n",
            "75%              2024-08-22 12:00:00  13219.000000  301.000000    52.000000   \n",
            "max              2024-08-30 00:00:00  15759.000000  346.000000    59.000000   \n",
            "std                              NaN   1425.045576   57.157214    10.250833   \n",
            "\n",
            "            Spend    Pageviews  Form_Submits  Contact_Us_Clicks  \n",
            "count   30.000000    31.000000     31.000000          31.000000  \n",
            "mean   660.712000   957.580645     27.032258          13.774194  \n",
            "min    513.080000   619.000000     15.000000           8.000000  \n",
            "25%    600.677500   748.000000     20.500000          12.000000  \n",
            "50%    657.795000   992.000000     27.000000          14.000000  \n",
            "75%    729.007500  1117.500000     34.000000          17.000000  \n",
            "max    798.370000  1284.000000     39.000000          19.000000  \n",
            "std     85.284687   223.019995      7.045017           3.509128  \n",
            "\n",
            "Facebook Ads Data Statistics:\n",
            "                                Date   Impressions      Clicks  Conversions  \\\n",
            "count                             31     30.000000   31.000000    31.000000   \n",
            "mean   2024-08-15 12:23:13.548387072  11852.766667  192.580645    33.161290   \n",
            "min              2024-08-01 00:00:00   8130.000000  108.000000    21.000000   \n",
            "25%              2024-08-08 12:00:00  10554.500000  150.000000    24.000000   \n",
            "50%              2024-08-16 00:00:00  11944.500000  183.000000    31.000000   \n",
            "75%              2024-08-22 12:00:00  13376.000000  232.500000    41.000000   \n",
            "max              2024-08-30 00:00:00  14949.000000  289.000000    49.000000   \n",
            "std                              NaN   1970.185597   59.375514     9.740283   \n",
            "\n",
            "            Spend    Pageviews  Form_Submits  Contact_Us_Clicks  \n",
            "count   30.000000    31.000000     31.000000          31.000000  \n",
            "mean   539.384000   904.000000     19.096774           8.322581  \n",
            "min    401.660000   504.000000     10.000000           5.000000  \n",
            "25%    446.407500   723.500000     15.500000           5.500000  \n",
            "50%    512.070000   961.000000     18.000000           8.000000  \n",
            "75%    631.597500  1058.000000     22.000000          11.000000  \n",
            "max    696.070000  1190.000000     29.000000          14.000000  \n",
            "std     98.557321   211.999843      5.815811           2.891218  \n"
          ]
        }
      ]
    },
    {
      "cell_type": "code",
      "source": [
        "google_ads_data['Clicks'].fillna(google_ads_data['Clicks'].median(), inplace=True)\n",
        "google_ads_data['Spend'].fillna(google_ads_data['Spend'].median(), inplace=True)\n",
        "\n",
        "facebook_ads_data['Impressions'].fillna(facebook_ads_data['Impressions'].median(), inplace=True)\n",
        "facebook_ads_data['Spend'].fillna(facebook_ads_data['Spend'].median(), inplace=True)\n",
        "\n",
        "#I chose to fill the missing values using the median. The median is less influenced by extreme values (outliers) than the mean, making it a more reliable method for handling missing data in this context."
      ],
      "metadata": {
        "id": "09axzkWZcwbJ"
      },
      "execution_count": null,
      "outputs": []
    },
    {
      "cell_type": "code",
      "source": [
        "google_ads_data['Clicks'] = google_ads_data['Clicks'].fillna(0).astype(int)\n",
        "facebook_ads_data['Impressions'] = facebook_ads_data['Impressions'].fillna(0).astype(int)\n",
        "\n",
        "#I converted the data type of Clicks to integers to ensure consistency across the dataset. This step is crucial because it allows me to perform accurate calculations and comparisons during the analysis."
      ],
      "metadata": {
        "id": "bd3LqXaVc3U1"
      },
      "execution_count": null,
      "outputs": []
    },
    {
      "cell_type": "code",
      "source": [
        "print(\"\\nGoogle Ads Data Information:\")\n",
        "print(google_ads_data.info())\n",
        "\n",
        "#To double check whether the conversion of data type is successful"
      ],
      "metadata": {
        "colab": {
          "base_uri": "https://localhost:8080/"
        },
        "id": "ZzM9YJelc6-g",
        "outputId": "774eef5e-b91e-4d92-ef59-e792205c23d8"
      },
      "execution_count": null,
      "outputs": [
        {
          "output_type": "stream",
          "name": "stdout",
          "text": [
            "\n",
            "Google Ads Data Information:\n",
            "<class 'pandas.core.frame.DataFrame'>\n",
            "RangeIndex: 31 entries, 0 to 30\n",
            "Data columns (total 12 columns):\n",
            " #   Column             Non-Null Count  Dtype         \n",
            "---  ------             --------------  -----         \n",
            " 0   Campaign_ID        31 non-null     object        \n",
            " 1   Campaign_Name      31 non-null     object        \n",
            " 2   Keyword            31 non-null     object        \n",
            " 3   Ad_ID              31 non-null     object        \n",
            " 4   Date               31 non-null     datetime64[ns]\n",
            " 5   Impressions        31 non-null     int64         \n",
            " 6   Clicks             31 non-null     int64         \n",
            " 7   Conversions        31 non-null     int64         \n",
            " 8   Spend              31 non-null     float64       \n",
            " 9   Pageviews          31 non-null     int64         \n",
            " 10  Form_Submits       31 non-null     int64         \n",
            " 11  Contact_Us_Clicks  31 non-null     int64         \n",
            "dtypes: datetime64[ns](1), float64(1), int64(6), object(4)\n",
            "memory usage: 3.0+ KB\n",
            "None\n"
          ]
        }
      ]
    },
    {
      "cell_type": "code",
      "source": [
        "print(\"\\nFacebook Ads Data Information:\")\n",
        "print(facebook_ads_data.info())\n",
        "\n",
        "#To double check whether the conversion of data type is successful"
      ],
      "metadata": {
        "colab": {
          "base_uri": "https://localhost:8080/"
        },
        "id": "vXl_ybAuc96v",
        "outputId": "99a84f41-3652-457d-8d0b-4f60e3e38e29"
      },
      "execution_count": null,
      "outputs": [
        {
          "output_type": "stream",
          "name": "stdout",
          "text": [
            "\n",
            "Facebook Ads Data Information:\n",
            "<class 'pandas.core.frame.DataFrame'>\n",
            "RangeIndex: 31 entries, 0 to 30\n",
            "Data columns (total 12 columns):\n",
            " #   Column             Non-Null Count  Dtype         \n",
            "---  ------             --------------  -----         \n",
            " 0   Campaign_ID        31 non-null     object        \n",
            " 1   Campaign_Name      31 non-null     object        \n",
            " 2   Ad_Set_Name        31 non-null     object        \n",
            " 3   Ad_ID              31 non-null     object        \n",
            " 4   Date               31 non-null     datetime64[ns]\n",
            " 5   Impressions        31 non-null     int64         \n",
            " 6   Clicks             31 non-null     int64         \n",
            " 7   Conversions        31 non-null     int64         \n",
            " 8   Spend              31 non-null     float64       \n",
            " 9   Pageviews          31 non-null     int64         \n",
            " 10  Form_Submits       31 non-null     int64         \n",
            " 11  Contact_Us_Clicks  31 non-null     int64         \n",
            "dtypes: datetime64[ns](1), float64(1), int64(6), object(4)\n",
            "memory usage: 3.0+ KB\n",
            "None\n"
          ]
        }
      ]
    },
    {
      "cell_type": "code",
      "source": [
        "google_ads_data['CTR'] = (google_ads_data['Clicks'] / google_ads_data['Impressions']) * 100\n",
        "facebook_ads_data['CTR'] = (facebook_ads_data['Clicks'] / facebook_ads_data['Impressions']) * 100\n",
        "\n",
        "google_ads_data['CPC'] = google_ads_data['Spend'] / google_ads_data['Clicks']\n",
        "facebook_ads_data['CPC'] = facebook_ads_data['Spend'] / facebook_ads_data['Clicks']\n",
        "\n",
        "google_ads_data['CVR'] = (google_ads_data['Conversions'] / google_ads_data['Clicks']) * 100\n",
        "facebook_ads_data['CVR'] = (facebook_ads_data['Conversions'] / facebook_ads_data['Clicks']) * 100\n",
        "\n",
        "google_ads_data['CPA'] = google_ads_data['Spend'] / google_ads_data['Conversions']\n",
        "facebook_ads_data['CPA'] = facebook_ads_data['Spend'] / facebook_ads_data['Conversions']\n",
        "\n",
        "#I converted the data type of Clicks to integers to ensure consistency across the dataset. This step is crucial because it allows me to perform accurate calculations and comparisons during the analysis.\n",
        "#I calculated the Click-Through Rate (CTR) because it’s a key metric that shows the effectiveness of the ads. By understanding how many clicks are generated per impression, I can better evaluate the performance of each campaign.\n",
        "#I calculated the Cost Per Click (CPC) to determine the cost-efficiency of the ads. Knowing the CPC helps me understand how much I'm spending on each click, which is essential for optimizing the ad budget."
      ],
      "metadata": {
        "id": "icAMShogdBhV"
      },
      "execution_count": null,
      "outputs": []
    },
    {
      "cell_type": "code",
      "source": [
        "output_file_path = 'ads_data.xlsx'\n",
        "with pd.ExcelWriter(output_file_path) as writer:\n",
        "    google_ads_data.to_excel(writer, sheet_name='Google Ads Data', index=False)\n",
        "    facebook_ads_data.to_excel(writer, sheet_name='Facebook Ads Data', index=False)\n",
        "    google_ads_data.to_csv('google_ads_data.csv', index=False)\n",
        "    facebook_ads_data.to_csv('facebook_ads_data.csv', index=False)\n",
        "\n",
        "#I saved the cleaned data in CSV format because BigQuery does not support Excel files directly. CSV files are a universally accepted format for data uploads into BigQuery. By converting the data to CSV, I ensured that the datasets could be easily imported into BigQuery for further analysis using SQL queries.\n",
        "\n",
        "\n",
        "\n",
        "\n",
        "\n",
        "\n"
      ],
      "metadata": {
        "id": "tshcIkaf7RMG"
      },
      "execution_count": null,
      "outputs": []
    }
  ]
}